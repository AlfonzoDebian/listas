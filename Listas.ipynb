{
  "nbformat": 4,
  "nbformat_minor": 0,
  "metadata": {
    "colab": {
      "provenance": [],
      "authorship_tag": "ABX9TyOIjMd/ReyV+U/bzoPQQbAK",
      "include_colab_link": true
    },
    "kernelspec": {
      "name": "python3",
      "display_name": "Python 3"
    },
    "language_info": {
      "name": "python"
    }
  },
  "cells": [
    {
      "cell_type": "markdown",
      "metadata": {
        "id": "view-in-github",
        "colab_type": "text"
      },
      "source": [
        "<a href=\"https://colab.research.google.com/github/AlfonzoDebian/listas/blob/main/Listas.ipynb\" target=\"_parent\"><img src=\"https://colab.research.google.com/assets/colab-badge.svg\" alt=\"Open In Colab\"/></a>"
      ]
    },
    {
      "cell_type": "markdown",
      "source": [
        "# Listas\n",
        "\n",
        "- Una lista hace referencia a una coleccion de datos, que pueden ser numeros, cadenas o strings. O algun otro tipo.\n",
        "\n",
        "- Son colecciones ordenada de datos lo que implica que impone el orden en sus elementos.\n",
        "\n",
        "- El primer elemento ocupa la posicion 0, luego 1. y Asi.\n",
        "\n",
        "- Son mutables. una vez creada la lista esta pueden modificarse.\n",
        "\n",
        "- En python estan representada por el tipo list... y para definirla se usa la siguente sintaxis.\n",
        "\n",
        "- y su uso es este.\n",
        "\n",
        "```\n",
        "nombres = [Jose, Juan, Diego]\n",
        "```\n",
        "Los elementos pueden ser de cualquier tipo, incluso haber tipo diferente en varias lista. Tambien es posible crear una lista usando el contrustor list.\n",
        "```list()```\n"
      ],
      "metadata": {
        "id": "kz3_SNt0Ct_E"
      }
    },
    {
      "cell_type": "code",
      "execution_count": null,
      "metadata": {
        "colab": {
          "base_uri": "https://localhost:8080/"
        },
        "id": "gkz0rhXtCdSS",
        "outputId": "58814997-548a-4e97-b497-41b8840e869c"
      },
      "outputs": [
        {
          "output_type": "stream",
          "name": "stdout",
          "text": [
            "['Lunes', 'Martes', 'Miércoles', 'Jueves', 'Viernes', 'Sábado', 'Domingo']\n",
            "['rojo', 'azul', 'verde', 'amarillo']\n",
            "<class 'list'>\n",
            "[12, 'good food', 23.4232, 2]\n",
            "[]\n",
            "[]\n",
            "[0, 30, 2]\n",
            "[29, 27, 25, 23, 21, 19, 17, 15, 13, 11, 9, 7, 5, 3, 1]\n",
            "['D', 'e', 'b', 'i', 'a', 'n', ' ', 'c', 'a', 'r', 'r', 'i', 'l', 'l', 'o', ' ', 's', 'o', 'l', 'a', 'n', 'o', ' ', 'n', 'i', 'c', 'o', 'l', ' ', 'q', 'u', 'i', 'n', 't', 'e', 'r', 'o']\n",
            "['D', 'e', 'b', 'i', 'a', 'n', ' ', 'c', 'a', 'r', 'r', 'i', 'l', 'l', 'o', ' ', 's', 'o', 'l', 'a', 'n', 'o', ' ', 'n', 'i', 'c', 'o', 'l', ' ', 'q', 'u', 'i', 'n', 't', 'e', 'r', 'o']\n"
          ]
        }
      ],
      "source": [
        "\n",
        "# Ejemplos\n",
        "\n",
        "# Semanas\n",
        "semana = [\"Lunes\", \"Martes\", \"Miércoles\", \"Jueves\", \"Viernes\", \"Sábado\", \"Domingo\"]\n",
        "print(semana)\n",
        "\n",
        "# Colores\n",
        "colores = [\"rojo\", \"azul\", \"verde\", \"amarillo\"]\n",
        "print(colores)\n",
        "\n",
        "# Precios\n",
        "precios = [100, 200, 300, 400]\n",
        "print(type(precios))\n",
        "\n",
        "# Mezcla\n",
        "mezcla = [12, 'good food', 23.4232, 2]\n",
        "print(mezcla)\n",
        "\n",
        "# Lista vacía\n",
        "vacia = []\n",
        "print(vacia)\n",
        "\n",
        "# List Construct usando ()\n",
        "\n",
        "listas = list()\n",
        "print(listas)\n",
        "\n",
        "lista_3 = list((0, 30, 2))\n",
        "print(lista_3)\n",
        "\n",
        "# Corregido usando range()\n",
        "lista_4 = list(range(29, 0, -2))\n",
        "print(lista_4)\n",
        "\n",
        "lista_5 = list('Debian carrillo solano nicol quintero')\n",
        "print(lista_5)\n",
        "\n",
        "frase = 'Debian carrillo solano nicol quintero'\n",
        "lista_6 = list(frase)\n",
        "print(lista_6)\n",
        "\n",
        "\n",
        "\n"
      ]
    },
    {
      "cell_type": "markdown",
      "source": [
        "# Operadores mas\n",
        "\n",
        "# Operador +\n",
        "\n",
        "- Concatenar los elementos de una lista.\n",
        "\n",
        "# Y el operador *\n",
        "\n",
        "- Se usa para repetir la secuencia de una lista\n"
      ],
      "metadata": {
        "id": "SetCnbu-Q6Oe"
      }
    },
    {
      "cell_type": "code",
      "source": [
        "semana = [\"Lunes\", \"Martes\", \"Miércoles\", \"Jueves\", \"Viernes\", \"Sábado\", \"Domingo\"]\n",
        "\n",
        "# Colore\n",
        "colores = [\"rojo\", \"azul\", \"verde\", \"amarillo\"]\n",
        "\n",
        "\n",
        "# Precios\n",
        "precios = [100, 200, 300, 400]\n",
        "\n",
        "# Accesos a los elementos de una lista\n",
        "\n",
        "print(semana[0])\n",
        "print(semana[-1])\n",
        "print(semana[-7])\n",
        "\n",
        "# Operador\n",
        "fin_semana = [\"Sabados\", \"domingo\"]\n",
        "semana  = semana + fin_semana\n",
        "print(semana)\n",
        "\n",
        "# Operador *\n",
        "colores_repitos = colores * 2\n",
        "print(colores_repitos)\n",
        "\n",
        "#"
      ],
      "metadata": {
        "colab": {
          "base_uri": "https://localhost:8080/"
        },
        "id": "d2mo0kHBRhO7",
        "outputId": "626b9d1f-0c48-4ee9-9ff8-bc358245c332"
      },
      "execution_count": null,
      "outputs": [
        {
          "output_type": "stream",
          "name": "stdout",
          "text": [
            "Lunes\n",
            "Domingo\n",
            "Lunes\n",
            "['Lunes', 'Martes', 'Miércoles', 'Jueves', 'Viernes', 'Sábado', 'Domingo', 'Sabados', 'domingo']\n"
          ]
        }
      ]
    },
    {
      "cell_type": "code",
      "execution_count": null,
      "metadata": {
        "colab": {
          "base_uri": "https://localhost:8080/"
        },
        "outputId": "58814997-548a-4e97-b497-41b8840e869c",
        "id": "9TDTarNLUnXO"
      },
      "outputs": [
        {
          "output_type": "stream",
          "name": "stdout",
          "text": [
            "['Lunes', 'Martes', 'Miércoles', 'Jueves', 'Viernes', 'Sábado', 'Domingo']\n",
            "['rojo', 'azul', 'verde', 'amarillo']\n",
            "<class 'list'>\n",
            "[12, 'good food', 23.4232, 2]\n",
            "[]\n",
            "[]\n",
            "[0, 30, 2]\n",
            "[29, 27, 25, 23, 21, 19, 17, 15, 13, 11, 9, 7, 5, 3, 1]\n",
            "['D', 'e', 'b', 'i', 'a', 'n', ' ', 'c', 'a', 'r', 'r', 'i', 'l', 'l', 'o', ' ', 's', 'o', 'l', 'a', 'n', 'o', ' ', 'n', 'i', 'c', 'o', 'l', ' ', 'q', 'u', 'i', 'n', 't', 'e', 'r', 'o']\n",
            "['D', 'e', 'b', 'i', 'a', 'n', ' ', 'c', 'a', 'r', 'r', 'i', 'l', 'l', 'o', ' ', 's', 'o', 'l', 'a', 'n', 'o', ' ', 'n', 'i', 'c', 'o', 'l', ' ', 'q', 'u', 'i', 'n', 't', 'e', 'r', 'o']\n"
          ]
        }
      ],
      "source": [
        "\n",
        "# Ejemplos\n",
        "\n",
        "# Semanas\n",
        "semana = [\"Lunes\", \"Martes\", \"Miércoles\", \"Jueves\", \"Viernes\", \"Sábado\", \"Domingo\"]\n",
        "print(semana)\n",
        "\n",
        "# Colores\n",
        "colores = [\"rojo\", \"azul\", \"verde\", \"amarillo\"]\n",
        "print(colores)\n",
        "\n",
        "# Precios\n",
        "precios = [100, 200, 300, 400]\n",
        "print(type(precios))\n",
        "\n",
        "# Mezcla\n",
        "mezcla = [12, 'good food', 23.4232, 2]\n",
        "print(mezcla)\n",
        "\n",
        "# Lista vacía\n",
        "vacia = []\n",
        "print(vacia)\n",
        "\n",
        "# List Construct usando ()\n",
        "\n",
        "listas = list()\n",
        "print(listas)\n",
        "\n",
        "lista_3 = list((0, 30, 2))\n",
        "print(lista_3)\n",
        "\n",
        "# Corregido usando range()\n",
        "lista_4 = list(range(29, 0, -2))\n",
        "print(lista_4)\n",
        "\n",
        "lista_5 = list('Debian carrillo solano nicol quintero')\n",
        "print(lista_5)\n",
        "\n",
        "frase = 'Debian carrillo solano nicol quintero'\n",
        "lista_6 = list(frase)\n",
        "print(lista_6)\n",
        "\n",
        "\n",
        "\n"
      ]
    },
    {
      "cell_type": "markdown",
      "source": [
        "# Funciones lista"
      ],
      "metadata": {
        "id": "VL9d2df1UUfY"
      }
    },
    {
      "cell_type": "code",
      "source": [
        "semana = [\"Lunes\", \"Martes\", \"Miércoles\", \"Jueves\", \"Viernes\", \"Sábado\", \"Domingo\"]\n",
        "\n",
        "# Colores\n",
        "colores = [\"rojo\", \"azul\", \"verde\", \"amarillo\"]\n",
        "\n",
        "precios = [200, 400, 500, 300, 500]\n",
        "pares = list(range(0, 30, 2))\n",
        "\n",
        "impares = list(range(1, 30, -2))\n",
        "colores = colores * 3\n",
        "\n",
        "# append(); Agrega el elemento final\n",
        "semana.append(\"Domingo\")\n",
        "print(semana)\n",
        "\n",
        "# Len() total de elementos\n",
        "print('total de precios', len(precios))\n",
        "\n",
        "# Count(): Cuenta de numeros de veces q aparece un elemento.\n",
        "print(semana.count('Lunes'))\n",
        "\n",
        "# Insert(): Agregar una ubicacion indicada\n",
        "colores.insert(2, \"Verdes\")\n",
        "print(colores)\n",
        "\n",
        "# Remove(): Quitar elementos.\n",
        "semana.remove(\"Martes\")\n",
        "print(semana)\n",
        "\n",
        "# sort(): ordena la lista de - a +\n",
        "precios.sort()\n",
        "print(precios)\n",
        "precios.sort(reverse=True)\n",
        "print(precios)\n",
        "\n",
        "\n",
        "\n",
        "\n",
        "print(\"----------------- ejemplos ---------------------\")\n",
        "\n",
        "\n",
        "# reverse(): invierte la lista\n",
        "pares.reverse()\n",
        "print(pares)\n",
        "\n",
        "# Pop(): Quitar el ultimo elemento\n",
        "semana.pop()\n",
        "print(semana)\n",
        "\n",
        "# Clear() borrar elementos de una lista\n",
        "colores.clear()\n",
        "print(colores)\n",
        "\n",
        "# del\n",
        "del semana[0]\n",
        "print(semana)\n",
        "\n"
      ],
      "metadata": {
        "colab": {
          "base_uri": "https://localhost:8080/"
        },
        "id": "ENJ68pt5Uf7G",
        "outputId": "2c5c94ec-b1d7-4b52-a034-1087246c4420"
      },
      "execution_count": null,
      "outputs": [
        {
          "output_type": "stream",
          "name": "stdout",
          "text": [
            "['Lunes', 'Martes', 'Miércoles', 'Jueves', 'Viernes', 'Sábado', 'Domingo', 'Domingo']\n",
            "total de precios 5\n",
            "1\n",
            "['rojo', 'azul', 'Verdes', 'verde', 'amarillo', 'rojo', 'azul', 'verde', 'amarillo', 'rojo', 'azul', 'verde', 'amarillo']\n",
            "['Lunes', 'Miércoles', 'Jueves', 'Viernes', 'Sábado', 'Domingo', 'Domingo']\n",
            "[200, 300, 400, 500, 500]\n",
            "[500, 500, 400, 300, 200]\n",
            "----------------- ejemplos ---------------------\n",
            "[28, 26, 24, 22, 20, 18, 16, 14, 12, 10, 8, 6, 4, 2, 0]\n",
            "['Lunes', 'Miércoles', 'Jueves', 'Viernes', 'Sábado', 'Domingo']\n",
            "[]\n",
            "['Miércoles', 'Jueves', 'Viernes', 'Sábado', 'Domingo']\n"
          ]
        }
      ]
    },
    {
      "cell_type": "markdown",
      "source": [
        "#### Particion o division de listas (slicing o rebanadas)\n",
        "\n",
        "-Se puede generar sublista a partir de una lista por medio de particion (division) o slicing\n",
        "\n",
        "- Para obtener una sublista se usa la sintaxis: ```sublista = lista [inicio:fin:n]```"
      ],
      "metadata": {
        "id": "zVT7XLFOgCfk"
      }
    },
    {
      "cell_type": "code",
      "source": [
        "# Se crea una lista de numeros enteros\n",
        "lista_1 = [1, 2, 3, 4, 5]\n",
        "\n",
        "# Sublista con los elementos de las posiciones 0 a 2.\n",
        "sublista_1 = lista_1[0:3]\n",
        "print(sublista_1)\n",
        "\n",
        "\n",
        "# Sublista con los elementos 0: 3\n",
        "\n",
        "sublista_2 = lista_1[:3]\n",
        "print(sublista_2)\n",
        "\n",
        "# Sublista con los elementos 2: 4\n",
        "\n",
        "sublista_3 = lista_1[2:4]\n",
        "print(sublista_3)\n",
        "\n",
        "# sublista con los elementos al inicio y al final con saltos de a 2\n",
        "sublista_4 = lista_1[::2]\n"
      ],
      "metadata": {
        "colab": {
          "base_uri": "https://localhost:8080/"
        },
        "id": "UgjKrOeBgnEj",
        "outputId": "9b08b865-707d-41e1-ec04-3375184eee52"
      },
      "execution_count": null,
      "outputs": [
        {
          "output_type": "stream",
          "name": "stdout",
          "text": [
            "[1, 2, 3]\n",
            "[1, 2, 3]\n",
            "[3, 4]\n"
          ]
        }
      ]
    }
  ]
}